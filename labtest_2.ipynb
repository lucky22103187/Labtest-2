{
 "cells": [
  {
   "cell_type": "code",
   "execution_count": 5,
   "id": "55d88bd9",
   "metadata": {},
   "outputs": [],
   "source": [
    "import pandas as pd\n",
    "import sklearn\n",
    "from sklearn.datasets import load_breast_cancer"
   ]
  },
  {
   "cell_type": "code",
   "execution_count": 6,
   "id": "9b9e134d",
   "metadata": {},
   "outputs": [],
   "source": [
    "data = load_breast_cancer()\n",
    "df = pd.DataFrame(data.data , columns = data.feature_names)"
   ]
  },
  {
   "cell_type": "code",
   "execution_count": 7,
   "id": "37457298",
   "metadata": {},
   "outputs": [
    {
     "name": "stdout",
     "output_type": "stream",
     "text": [
      "   mean radius  mean texture  mean perimeter  mean area  mean smoothness  \\\n",
      "0        17.99         10.38          122.80     1001.0          0.11840   \n",
      "1        20.57         17.77          132.90     1326.0          0.08474   \n",
      "2        19.69         21.25          130.00     1203.0          0.10960   \n",
      "3        11.42         20.38           77.58      386.1          0.14250   \n",
      "4        20.29         14.34          135.10     1297.0          0.10030   \n",
      "5        12.45         15.70           82.57      477.1          0.12780   \n",
      "6        18.25         19.98          119.60     1040.0          0.09463   \n",
      "7        13.71         20.83           90.20      577.9          0.11890   \n",
      "8        13.00         21.82           87.50      519.8          0.12730   \n",
      "9        12.46         24.04           83.97      475.9          0.11860   \n",
      "\n",
      "   mean compactness  mean concavity  mean concave points  mean symmetry  \\\n",
      "0           0.27760         0.30010              0.14710         0.2419   \n",
      "1           0.07864         0.08690              0.07017         0.1812   \n",
      "2           0.15990         0.19740              0.12790         0.2069   \n",
      "3           0.28390         0.24140              0.10520         0.2597   \n",
      "4           0.13280         0.19800              0.10430         0.1809   \n",
      "5           0.17000         0.15780              0.08089         0.2087   \n",
      "6           0.10900         0.11270              0.07400         0.1794   \n",
      "7           0.16450         0.09366              0.05985         0.2196   \n",
      "8           0.19320         0.18590              0.09353         0.2350   \n",
      "9           0.23960         0.22730              0.08543         0.2030   \n",
      "\n",
      "   mean fractal dimension  ...  worst radius  worst texture  worst perimeter  \\\n",
      "0                 0.07871  ...         25.38          17.33           184.60   \n",
      "1                 0.05667  ...         24.99          23.41           158.80   \n",
      "2                 0.05999  ...         23.57          25.53           152.50   \n",
      "3                 0.09744  ...         14.91          26.50            98.87   \n",
      "4                 0.05883  ...         22.54          16.67           152.20   \n",
      "5                 0.07613  ...         15.47          23.75           103.40   \n",
      "6                 0.05742  ...         22.88          27.66           153.20   \n",
      "7                 0.07451  ...         17.06          28.14           110.60   \n",
      "8                 0.07389  ...         15.49          30.73           106.20   \n",
      "9                 0.08243  ...         15.09          40.68            97.65   \n",
      "\n",
      "   worst area  worst smoothness  worst compactness  worst concavity  \\\n",
      "0      2019.0            0.1622             0.6656           0.7119   \n",
      "1      1956.0            0.1238             0.1866           0.2416   \n",
      "2      1709.0            0.1444             0.4245           0.4504   \n",
      "3       567.7            0.2098             0.8663           0.6869   \n",
      "4      1575.0            0.1374             0.2050           0.4000   \n",
      "5       741.6            0.1791             0.5249           0.5355   \n",
      "6      1606.0            0.1442             0.2576           0.3784   \n",
      "7       897.0            0.1654             0.3682           0.2678   \n",
      "8       739.3            0.1703             0.5401           0.5390   \n",
      "9       711.4            0.1853             1.0580           1.1050   \n",
      "\n",
      "   worst concave points  worst symmetry  worst fractal dimension  \n",
      "0                0.2654          0.4601                  0.11890  \n",
      "1                0.1860          0.2750                  0.08902  \n",
      "2                0.2430          0.3613                  0.08758  \n",
      "3                0.2575          0.6638                  0.17300  \n",
      "4                0.1625          0.2364                  0.07678  \n",
      "5                0.1741          0.3985                  0.12440  \n",
      "6                0.1932          0.3063                  0.08368  \n",
      "7                0.1556          0.3196                  0.11510  \n",
      "8                0.2060          0.4378                  0.10720  \n",
      "9                0.2210          0.4366                  0.20750  \n",
      "\n",
      "[10 rows x 30 columns]\n"
     ]
    }
   ],
   "source": [
    "print(df[:10])"
   ]
  },
  {
   "cell_type": "code",
   "execution_count": 56,
   "id": "534ac1ac",
   "metadata": {},
   "outputs": [],
   "source": [
    "import numpy as np"
   ]
  },
  {
   "cell_type": "code",
   "execution_count": 11,
   "id": "13decc78",
   "metadata": {},
   "outputs": [
    {
     "name": "stdout",
     "output_type": "stream",
     "text": [
      "mean radius                 14.127292\n",
      "mean texture                19.289649\n",
      "mean perimeter              91.969033\n",
      "mean area                  654.889104\n",
      "mean smoothness              0.096360\n",
      "mean compactness             0.104341\n",
      "mean concavity               0.088799\n",
      "mean concave points          0.048919\n",
      "mean symmetry                0.181162\n",
      "mean fractal dimension       0.062798\n",
      "radius error                 0.405172\n",
      "texture error                1.216853\n",
      "perimeter error              2.866059\n",
      "area error                  40.337079\n",
      "smoothness error             0.007041\n",
      "compactness error            0.025478\n",
      "concavity error              0.031894\n",
      "concave points error         0.011796\n",
      "symmetry error               0.020542\n",
      "fractal dimension error      0.003795\n",
      "worst radius                16.269190\n",
      "worst texture               25.677223\n",
      "worst perimeter            107.261213\n",
      "worst area                 880.583128\n",
      "worst smoothness             0.132369\n",
      "worst compactness            0.254265\n",
      "worst concavity              0.272188\n",
      "worst concave points         0.114606\n",
      "worst symmetry               0.290076\n",
      "worst fractal dimension      0.083946\n",
      "dtype: float64\n"
     ]
    }
   ],
   "source": [
    "means = df.mean()\n",
    "print(means)"
   ]
  },
  {
   "cell_type": "code",
   "execution_count": 12,
   "id": "5664e761",
   "metadata": {
    "collapsed": true
   },
   "outputs": [
    {
     "name": "stdout",
     "output_type": "stream",
     "text": [
      "mean radius                  6.981000\n",
      "mean texture                 9.710000\n",
      "mean perimeter              43.790000\n",
      "mean area                  143.500000\n",
      "mean smoothness              0.052630\n",
      "mean compactness             0.019380\n",
      "mean concavity               0.000000\n",
      "mean concave points          0.000000\n",
      "mean symmetry                0.106000\n",
      "mean fractal dimension       0.049960\n",
      "radius error                 0.111500\n",
      "texture error                0.360200\n",
      "perimeter error              0.757000\n",
      "area error                   6.802000\n",
      "smoothness error             0.001713\n",
      "compactness error            0.002252\n",
      "concavity error              0.000000\n",
      "concave points error         0.000000\n",
      "symmetry error               0.007882\n",
      "fractal dimension error      0.000895\n",
      "worst radius                 7.930000\n",
      "worst texture               12.020000\n",
      "worst perimeter             50.410000\n",
      "worst area                 185.200000\n",
      "worst smoothness             0.071170\n",
      "worst compactness            0.027290\n",
      "worst concavity              0.000000\n",
      "worst concave points         0.000000\n",
      "worst symmetry               0.156500\n",
      "worst fractal dimension      0.055040\n",
      "dtype: float64\n"
     ]
    }
   ],
   "source": [
    "minimum = df.min()\n",
    "print(minimum)"
   ]
  },
  {
   "cell_type": "code",
   "execution_count": 13,
   "id": "4b23fbb4",
   "metadata": {
    "collapsed": true
   },
   "outputs": [
    {
     "name": "stdout",
     "output_type": "stream",
     "text": [
      "mean radius                  28.11000\n",
      "mean texture                 39.28000\n",
      "mean perimeter              188.50000\n",
      "mean area                  2501.00000\n",
      "mean smoothness               0.16340\n",
      "mean compactness              0.34540\n",
      "mean concavity                0.42680\n",
      "mean concave points           0.20120\n",
      "mean symmetry                 0.30400\n",
      "mean fractal dimension        0.09744\n",
      "radius error                  2.87300\n",
      "texture error                 4.88500\n",
      "perimeter error              21.98000\n",
      "area error                  542.20000\n",
      "smoothness error              0.03113\n",
      "compactness error             0.13540\n",
      "concavity error               0.39600\n",
      "concave points error          0.05279\n",
      "symmetry error                0.07895\n",
      "fractal dimension error       0.02984\n",
      "worst radius                 36.04000\n",
      "worst texture                49.54000\n",
      "worst perimeter             251.20000\n",
      "worst area                 4254.00000\n",
      "worst smoothness              0.22260\n",
      "worst compactness             1.05800\n",
      "worst concavity               1.25200\n",
      "worst concave points          0.29100\n",
      "worst symmetry                0.66380\n",
      "worst fractal dimension       0.20750\n",
      "dtype: float64\n"
     ]
    }
   ],
   "source": [
    "maximum = df.max()\n",
    "print(maximum)"
   ]
  },
  {
   "cell_type": "code",
   "execution_count": 14,
   "id": "fb6aa6c9",
   "metadata": {},
   "outputs": [
    {
     "name": "stdout",
     "output_type": "stream",
     "text": [
      "mean radius                0\n",
      "mean texture               0\n",
      "mean perimeter             0\n",
      "mean area                  0\n",
      "mean smoothness            0\n",
      "mean compactness           0\n",
      "mean concavity             0\n",
      "mean concave points        0\n",
      "mean symmetry              0\n",
      "mean fractal dimension     0\n",
      "radius error               0\n",
      "texture error              0\n",
      "perimeter error            0\n",
      "area error                 0\n",
      "smoothness error           0\n",
      "compactness error          0\n",
      "concavity error            0\n",
      "concave points error       0\n",
      "symmetry error             0\n",
      "fractal dimension error    0\n",
      "worst radius               0\n",
      "worst texture              0\n",
      "worst perimeter            0\n",
      "worst area                 0\n",
      "worst smoothness           0\n",
      "worst compactness          0\n",
      "worst concavity            0\n",
      "worst concave points       0\n",
      "worst symmetry             0\n",
      "worst fractal dimension    0\n",
      "dtype: int64\n"
     ]
    }
   ],
   "source": [
    "missing = df.isnull().sum()\n",
    "print(missing)"
   ]
  },
  {
   "cell_type": "code",
   "execution_count": 33,
   "id": "a2becfd4",
   "metadata": {},
   "outputs": [],
   "source": [
    "from sklearn.model_selection import train_test_split\n",
    "from sklearn.preprocessing import StandardScaler\n",
    "from sklearn.metrics import accuracy_score , classification_report"
   ]
  },
  {
   "cell_type": "code",
   "execution_count": 29,
   "id": "cd6af11a",
   "metadata": {},
   "outputs": [],
   "source": [
    "target = data.target"
   ]
  },
  {
   "cell_type": "code",
   "execution_count": 46,
   "id": "97be2bd3",
   "metadata": {
    "collapsed": true
   },
   "outputs": [
    {
     "data": {
      "text/plain": [
       "array([[ 5.73945566e-01, -2.12220307e+00,  7.37930584e-01,\n",
       "         4.76279299e-01,  2.51770722e-01,  1.48614148e+00,\n",
       "         1.84619107e+00,  2.03851256e+00,  1.15645587e+00,\n",
       "         5.63413771e-01,  2.25557811e+00, -3.44850415e-01,\n",
       "         2.52259533e+00,  2.27246802e+00, -3.90487908e-01,\n",
       "         5.14872696e-01,  6.55987037e-01,  2.62112446e-01,\n",
       "         5.17248264e-01,  2.92024070e-01,  1.32920551e+00,\n",
       "        -1.34453643e+00,  1.76175305e+00,  1.41604586e+00,\n",
       "         4.11998442e-04,  5.72659759e-01,  7.44252663e-01,\n",
       "         1.58818909e+00,  6.09521717e-01,  1.46720521e-02],\n",
       "       [ 1.31175302e+00, -2.25591547e-01,  1.18750827e+00,\n",
       "         1.38350455e+00, -1.80367495e+00, -1.57203353e+00,\n",
       "        -1.43431246e+00, -9.62133618e-01, -1.16256862e+00,\n",
       "        -1.18358110e+00, -7.19573521e-02, -9.65856521e-01,\n",
       "        -2.79208885e-01,  2.92762767e-01, -9.71297237e-01,\n",
       "        -1.26061850e+00, -1.32960874e+00, -4.98660459e-01,\n",
       "        -7.25626082e-01, -8.49224352e-01,  1.23732494e+00,\n",
       "        -4.05985169e-01,  9.00863838e-01,  1.29970407e+00,\n",
       "        -1.58166202e+00, -1.18660156e+00, -1.19761712e+00,\n",
       "        -5.50223897e-01, -9.89436189e-01, -7.36014448e-01],\n",
       "       [ 1.06009776e+00,  6.67535397e-01,  1.05842161e+00,\n",
       "         1.04015469e+00, -2.85600696e-01, -3.23002059e-01,\n",
       "         2.65948513e-01,  1.28961867e+00, -1.80708169e-01,\n",
       "        -9.20422159e-01,  7.80979941e-01, -7.73830129e-01,\n",
       "         3.61465668e-01,  7.90684097e-01, -5.13674895e-01,\n",
       "         7.14936387e-02, -2.15007297e-01,  1.71281706e+00,\n",
       "        -6.26057524e-02, -4.03618523e-01,  9.02785449e-01,\n",
       "        -7.87271620e-02,  6.90646704e-01,  8.43570357e-01,\n",
       "        -7.32945228e-01, -3.12847347e-01, -3.35481436e-01,\n",
       "         9.84908855e-01, -2.43946901e-01, -7.72192110e-01],\n",
       "       [-1.30488970e+00,  4.44253661e-01, -1.27493110e+00,\n",
       "        -1.24019087e+00,  1.72343563e+00,  1.58297754e+00,\n",
       "         9.42975507e-01,  4.04207673e-01,  1.83649930e+00,\n",
       "         2.04804235e+00, -2.74113197e-01,  5.63470651e-01,\n",
       "        -2.53840979e-01, -8.76541209e-01,  9.50716600e-01,\n",
       "         1.77588618e+00,  8.18768587e-01,  1.12452708e+00,\n",
       "         2.79662129e+00,  1.58509584e+00, -1.13743428e+00,\n",
       "         7.10088128e-02, -1.09886836e+00, -1.26406285e+00,\n",
       "         1.96152458e+00,  1.30978658e+00,  6.41027606e-01,\n",
       "         1.37542508e+00,  2.36915287e+00,  1.37384674e+00],\n",
       "       [ 1.23168089e+00, -1.10588621e+00,  1.28543608e+00,\n",
       "         1.30255214e+00, -8.53504580e-01, -7.39550826e-01,\n",
       "         2.75180699e-01,  3.69103273e-01, -1.17403003e+00,\n",
       "        -1.01236926e+00,  8.29936263e-01, -7.94119710e-01,\n",
       "         8.21866168e-01,  8.00917067e-01,  2.12816652e+00,\n",
       "        -6.91335586e-01,  8.34029357e-01,  1.17996802e+00,\n",
       "        -4.43014629e-01, -1.70308060e-01,  6.60126521e-01,\n",
       "        -1.44641864e+00,  6.80636364e-01,  5.96113203e-01,\n",
       "        -1.02134414e+00, -1.11902242e+00, -5.43583152e-01,\n",
       "        -1.18312950e+00, -1.32287636e+00, -1.04352458e+00],\n",
       "       [-1.01033866e+00, -7.56848091e-01, -1.05281302e+00,\n",
       "        -9.86167804e-01,  8.25781100e-01, -1.67756946e-01,\n",
       "        -3.43375782e-01, -5.44001199e-01, -1.11939733e-01,\n",
       "         3.58910742e-01, -9.54015216e-01, -3.99559821e-01,\n",
       "        -9.16644982e-01, -8.77539547e-01,  1.59153630e-01,\n",
       "        -2.54868897e-01, -3.05441491e-01, -1.12391107e+00,\n",
       "        -1.28060721e-01, -1.84461085e-01, -1.00550321e+00,\n",
       "        -3.53500394e-01, -9.47712228e-01, -9.42922557e-01,\n",
       "         6.96689365e-01,  5.58997020e-02,  1.58966588e-02,\n",
       "        -8.70716524e-01,  7.73995832e-02,  1.52850625e-01],\n",
       "       [ 6.48298255e-01,  3.41595391e-01,  5.95490129e-01,\n",
       "         5.85146329e-01, -1.19974276e+00, -1.10537594e+00,\n",
       "        -1.03732845e+00, -8.12744890e-01, -1.23133706e+00,\n",
       "        -1.12413254e+00, -4.80489415e-01, -8.23467140e-01,\n",
       "        -3.96872787e-01, -2.10649425e-01, -1.42199340e+00,\n",
       "        -1.22408169e+00, -1.10691454e+00, -1.42575619e+00,\n",
       "        -7.41027251e-01, -1.42949835e+00,  7.40227526e-01,\n",
       "         2.50074515e-01,  7.14004163e-01,  6.53360753e-01,\n",
       "        -7.41185196e-01, -9.25834224e-01, -6.32769601e-01,\n",
       "        -3.56312391e-01, -7.19055949e-01, -8.70173280e-01],\n",
       "       [-6.50014087e-01,  5.59744214e-01, -7.13181555e-01,\n",
       "        -7.04788403e-01,  2.82303189e-01, -2.52296364e-01,\n",
       "        -1.33029650e+00, -1.36466408e+00,  3.04491355e-01,\n",
       "         2.30501864e-01,  9.68575502e-02,  1.36418447e+00,\n",
       "        -3.20067405e-02, -2.84276890e-01,  7.99824908e-01,\n",
       "        -4.10890926e-01, -9.74654529e-01, -1.66014816e-01,\n",
       "        -6.50930412e-01, -4.29308407e-02, -6.30913213e-01,\n",
       "         3.24170667e-01, -7.07464075e-01, -6.55946127e-01,\n",
       "         1.32251500e-01, -5.19624825e-01, -1.08943726e+00,\n",
       "        -1.36896136e+00, -6.04165943e-01, -8.07967799e-02],\n",
       "       [-8.53054122e-01,  8.13823431e-01, -8.33365689e-01,\n",
       "        -8.66972364e-01,  7.95248634e-01,  1.88845688e-01,\n",
       "         8.89982758e-02, -5.09793910e-02,  8.92843534e-01,\n",
       "         1.81357725e-01, -1.07302972e+00,  5.50717200e-03,\n",
       "        -8.14633616e-01, -9.49170335e-01, -7.20965448e-01,\n",
       "        -1.77351623e-01, -3.72701923e-01, -8.49786416e-01,\n",
       "        -1.45002007e-01, -7.56157494e-01, -1.00079138e+00,\n",
       "         7.23981156e-01, -8.54282390e-01, -9.47169956e-01,\n",
       "         3.34130736e-01,  1.11725948e-01,  3.03481669e-02,\n",
       "        -1.15808260e-02,  4.16886594e-01, -2.79271457e-01],\n",
       "       [-1.00747894e+00,  1.38357683e+00, -9.90495317e-01,\n",
       "        -9.89517559e-01,  2.63983709e-01,  9.02050957e-01,\n",
       "         7.26019129e-01, -3.66918999e-01, -3.29706448e-01,\n",
       "         8.58278603e-01, -1.10974696e+00,  2.16852144e+00,\n",
       "        -1.01271918e+00, -9.58654551e-01, -1.94427654e-02,\n",
       "         1.65689470e+00,  1.99554354e+00, -2.15295652e-01,\n",
       "        -4.17602700e-01,  1.95907879e+00, -1.09502786e+00,\n",
       "         2.25993265e+00, -1.13957707e+00, -9.98692751e-01,\n",
       "         9.52128399e-01,  2.01385838e+00,  2.36736346e+00,\n",
       "         3.92401477e-01,  4.06520579e-01,  2.24060324e+00]])"
      ]
     },
     "execution_count": 46,
     "metadata": {},
     "output_type": "execute_result"
    }
   ],
   "source": [
    "stscaler = StandardScaler()\n",
    "stscaler.fit_transform(data.data[:10])"
   ]
  },
  {
   "cell_type": "code",
   "execution_count": 20,
   "id": "7f44422c",
   "metadata": {},
   "outputs": [],
   "source": [
    "X_train,X_test,Y_train,Y_test = train_test_split(data.data ,target,test_size=0.3 , random_state =42)"
   ]
  },
  {
   "cell_type": "code",
   "execution_count": 69,
   "id": "8698db16",
   "metadata": {},
   "outputs": [],
   "source": [
    "from sklearn.neighbors import KNeighborsClassifier \n",
    "import seaborn as sns"
   ]
  },
  {
   "cell_type": "code",
   "execution_count": 70,
   "id": "6157613b",
   "metadata": {},
   "outputs": [
    {
     "data": {
      "text/html": [
       "<style>#sk-container-id-2 {color: black;}#sk-container-id-2 pre{padding: 0;}#sk-container-id-2 div.sk-toggleable {background-color: white;}#sk-container-id-2 label.sk-toggleable__label {cursor: pointer;display: block;width: 100%;margin-bottom: 0;padding: 0.3em;box-sizing: border-box;text-align: center;}#sk-container-id-2 label.sk-toggleable__label-arrow:before {content: \"▸\";float: left;margin-right: 0.25em;color: #696969;}#sk-container-id-2 label.sk-toggleable__label-arrow:hover:before {color: black;}#sk-container-id-2 div.sk-estimator:hover label.sk-toggleable__label-arrow:before {color: black;}#sk-container-id-2 div.sk-toggleable__content {max-height: 0;max-width: 0;overflow: hidden;text-align: left;background-color: #f0f8ff;}#sk-container-id-2 div.sk-toggleable__content pre {margin: 0.2em;color: black;border-radius: 0.25em;background-color: #f0f8ff;}#sk-container-id-2 input.sk-toggleable__control:checked~div.sk-toggleable__content {max-height: 200px;max-width: 100%;overflow: auto;}#sk-container-id-2 input.sk-toggleable__control:checked~label.sk-toggleable__label-arrow:before {content: \"▾\";}#sk-container-id-2 div.sk-estimator input.sk-toggleable__control:checked~label.sk-toggleable__label {background-color: #d4ebff;}#sk-container-id-2 div.sk-label input.sk-toggleable__control:checked~label.sk-toggleable__label {background-color: #d4ebff;}#sk-container-id-2 input.sk-hidden--visually {border: 0;clip: rect(1px 1px 1px 1px);clip: rect(1px, 1px, 1px, 1px);height: 1px;margin: -1px;overflow: hidden;padding: 0;position: absolute;width: 1px;}#sk-container-id-2 div.sk-estimator {font-family: monospace;background-color: #f0f8ff;border: 1px dotted black;border-radius: 0.25em;box-sizing: border-box;margin-bottom: 0.5em;}#sk-container-id-2 div.sk-estimator:hover {background-color: #d4ebff;}#sk-container-id-2 div.sk-parallel-item::after {content: \"\";width: 100%;border-bottom: 1px solid gray;flex-grow: 1;}#sk-container-id-2 div.sk-label:hover label.sk-toggleable__label {background-color: #d4ebff;}#sk-container-id-2 div.sk-serial::before {content: \"\";position: absolute;border-left: 1px solid gray;box-sizing: border-box;top: 0;bottom: 0;left: 50%;z-index: 0;}#sk-container-id-2 div.sk-serial {display: flex;flex-direction: column;align-items: center;background-color: white;padding-right: 0.2em;padding-left: 0.2em;position: relative;}#sk-container-id-2 div.sk-item {position: relative;z-index: 1;}#sk-container-id-2 div.sk-parallel {display: flex;align-items: stretch;justify-content: center;background-color: white;position: relative;}#sk-container-id-2 div.sk-item::before, #sk-container-id-2 div.sk-parallel-item::before {content: \"\";position: absolute;border-left: 1px solid gray;box-sizing: border-box;top: 0;bottom: 0;left: 50%;z-index: -1;}#sk-container-id-2 div.sk-parallel-item {display: flex;flex-direction: column;z-index: 1;position: relative;background-color: white;}#sk-container-id-2 div.sk-parallel-item:first-child::after {align-self: flex-end;width: 50%;}#sk-container-id-2 div.sk-parallel-item:last-child::after {align-self: flex-start;width: 50%;}#sk-container-id-2 div.sk-parallel-item:only-child::after {width: 0;}#sk-container-id-2 div.sk-dashed-wrapped {border: 1px dashed gray;margin: 0 0.4em 0.5em 0.4em;box-sizing: border-box;padding-bottom: 0.4em;background-color: white;}#sk-container-id-2 div.sk-label label {font-family: monospace;font-weight: bold;display: inline-block;line-height: 1.2em;}#sk-container-id-2 div.sk-label-container {text-align: center;}#sk-container-id-2 div.sk-container {/* jupyter's `normalize.less` sets `[hidden] { display: none; }` but bootstrap.min.css set `[hidden] { display: none !important; }` so we also need the `!important` here to be able to override the default hidden behavior on the sphinx rendered scikit-learn.org. See: https://github.com/scikit-learn/scikit-learn/issues/21755 */display: inline-block !important;position: relative;}#sk-container-id-2 div.sk-text-repr-fallback {display: none;}</style><div id=\"sk-container-id-2\" class=\"sk-top-container\"><div class=\"sk-text-repr-fallback\"><pre>KNeighborsClassifier()</pre><b>In a Jupyter environment, please rerun this cell to show the HTML representation or trust the notebook. <br />On GitHub, the HTML representation is unable to render, please try loading this page with nbviewer.org.</b></div><div class=\"sk-container\" hidden><div class=\"sk-item\"><div class=\"sk-estimator sk-toggleable\"><input class=\"sk-toggleable__control sk-hidden--visually\" id=\"sk-estimator-id-2\" type=\"checkbox\" checked><label for=\"sk-estimator-id-2\" class=\"sk-toggleable__label sk-toggleable__label-arrow\">KNeighborsClassifier</label><div class=\"sk-toggleable__content\"><pre>KNeighborsClassifier()</pre></div></div></div></div></div>"
      ],
      "text/plain": [
       "KNeighborsClassifier()"
      ]
     },
     "execution_count": 70,
     "metadata": {},
     "output_type": "execute_result"
    },
    {
     "data": {
      "image/png": "[encoded data removed]",
      "text/plain": [
       "<Figure size 640x480 with 2 Axes>"
      ]
     },
     "metadata": {},
     "output_type": "display_data"
    }
   ],
   "source": [
    "sns.heatmap(data.data)\n",
    "knn = KNeighborsClassifier()\n",
    "knn.fit(X_train , Y_train)"
   ]
  },
  {
   "cell_type": "code",
   "execution_count": 64,
   "id": "5b4aac21",
   "metadata": {},
   "outputs": [
    {
     "name": "stdout",
     "output_type": "stream",
     "text": [
      "[1 0 0 1 1 0 0 0 1 1 1 0 1 1 1 0 1 1 1 0 1 1 0 1 1 1 1 1 1 0 1 1 1 1 1 1 0\n",
      " 1 0 1 1 0 1 1 1 1 1 1 1 1 0 0 1 1 1 1 1 0 1 1 1 0 0 1 1 1 0 0 1 1 1 0 1 1\n",
      " 1 1 1 0 1 1 0 1 1 0 0 0 0 0 1 1 1 1 1 1 1 1 0 0 1 0 0 1 0 0 1 1 1 0 1 1 0\n",
      " 1 1 0 1 0 1 1 1 0 1 1 1 0 1 0 0 1 1 0 0 0 1 1 0 0 1 1 1 0 1 0 1 1 0 1 0 0\n",
      " 0 1 0 1 1 1 1 0 0 1 1 1 1 1 1 1 0 1 1 1 1 0 1]\n"
     ]
    }
   ],
   "source": [
    "y_pred = knn.predict(X_test)\n",
    "print(y_pred)"
   ]
  },
  {
   "cell_type": "code",
   "execution_count": 67,
   "id": "52bc70af",
   "metadata": {},
   "outputs": [
    {
     "ename": "TypeError",
     "evalue": "missing a required argument: 'y_pred'",
     "output_type": "error",
     "traceback": [
      "\u001b[1;31m---------------------------------------------------------------------------\u001b[0m",
      "\u001b[1;31mTypeError\u001b[0m                                 Traceback (most recent call last)",
      "Cell \u001b[1;32mIn[67], line 1\u001b[0m\n\u001b[1;32m----> 1\u001b[0m classification_report(y_pred)\n",
      "File \u001b[1;32mC:\\ProgramData\\anaconda3\\Lib\\site-packages\\sklearn\\utils\\_param_validation.py:189\u001b[0m, in \u001b[0;36mvalidate_params.<locals>.decorator.<locals>.wrapper\u001b[1;34m(*args, **kwargs)\u001b[0m\n\u001b[0;32m    186\u001b[0m func_sig \u001b[38;5;241m=\u001b[39m signature(func)\n\u001b[0;32m    188\u001b[0m \u001b[38;5;66;03m# Map *args/**kwargs to the function signature\u001b[39;00m\n\u001b[1;32m--> 189\u001b[0m params \u001b[38;5;241m=\u001b[39m func_sig\u001b[38;5;241m.\u001b[39mbind(\u001b[38;5;241m*\u001b[39margs, \u001b[38;5;241m*\u001b[39m\u001b[38;5;241m*\u001b[39mkwargs)\n\u001b[0;32m    190\u001b[0m params\u001b[38;5;241m.\u001b[39mapply_defaults()\n\u001b[0;32m    192\u001b[0m \u001b[38;5;66;03m# ignore self/cls and positional/keyword markers\u001b[39;00m\n",
      "File \u001b[1;32mC:\\ProgramData\\anaconda3\\Lib\\inspect.py:3212\u001b[0m, in \u001b[0;36mSignature.bind\u001b[1;34m(self, *args, **kwargs)\u001b[0m\n\u001b[0;32m   3207\u001b[0m \u001b[38;5;28;01mdef\u001b[39;00m \u001b[38;5;21mbind\u001b[39m(\u001b[38;5;28mself\u001b[39m, \u001b[38;5;241m/\u001b[39m, \u001b[38;5;241m*\u001b[39margs, \u001b[38;5;241m*\u001b[39m\u001b[38;5;241m*\u001b[39mkwargs):\n\u001b[0;32m   3208\u001b[0m \u001b[38;5;250m    \u001b[39m\u001b[38;5;124;03m\"\"\"Get a BoundArguments object, that maps the passed `args`\u001b[39;00m\n\u001b[0;32m   3209\u001b[0m \u001b[38;5;124;03m    and `kwargs` to the function's signature.  Raises `TypeError`\u001b[39;00m\n\u001b[0;32m   3210\u001b[0m \u001b[38;5;124;03m    if the passed arguments can not be bound.\u001b[39;00m\n\u001b[0;32m   3211\u001b[0m \u001b[38;5;124;03m    \"\"\"\u001b[39;00m\n\u001b[1;32m-> 3212\u001b[0m     \u001b[38;5;28;01mreturn\u001b[39;00m \u001b[38;5;28mself\u001b[39m\u001b[38;5;241m.\u001b[39m_bind(args, kwargs)\n",
      "File \u001b[1;32mC:\\ProgramData\\anaconda3\\Lib\\inspect.py:3127\u001b[0m, in \u001b[0;36mSignature._bind\u001b[1;34m(self, args, kwargs, partial)\u001b[0m\n\u001b[0;32m   3125\u001b[0m                 msg \u001b[38;5;241m=\u001b[39m \u001b[38;5;124m'\u001b[39m\u001b[38;5;124mmissing a required argument: \u001b[39m\u001b[38;5;132;01m{arg!r}\u001b[39;00m\u001b[38;5;124m'\u001b[39m\n\u001b[0;32m   3126\u001b[0m                 msg \u001b[38;5;241m=\u001b[39m msg\u001b[38;5;241m.\u001b[39mformat(arg\u001b[38;5;241m=\u001b[39mparam\u001b[38;5;241m.\u001b[39mname)\n\u001b[1;32m-> 3127\u001b[0m                 \u001b[38;5;28;01mraise\u001b[39;00m \u001b[38;5;167;01mTypeError\u001b[39;00m(msg) \u001b[38;5;28;01mfrom\u001b[39;00m \u001b[38;5;28;01mNone\u001b[39;00m\n\u001b[0;32m   3128\u001b[0m \u001b[38;5;28;01melse\u001b[39;00m:\n\u001b[0;32m   3129\u001b[0m     \u001b[38;5;66;03m# We have a positional argument to process\u001b[39;00m\n\u001b[0;32m   3130\u001b[0m     \u001b[38;5;28;01mtry\u001b[39;00m:\n",
      "\u001b[1;31mTypeError\u001b[0m: missing a required argument: 'y_pred'"
     ]
    }
   ],
   "source": [
    "print(classification_report(y_pred))"
   ]
  },
  {
   "cell_type": "code",
   "execution_count": 68,
   "id": "a282ea0a",
   "metadata": {},
   "outputs": [],
   "source": [
    "import numpy as np"
   ]
  },
  {
   "cell_type": "code",
   "execution_count": null,
   "id": "856ddc16",
   "metadata": {},
   "outputs": [],
   "source": [
    "def reversed(str1,)"
   ]
  }
 ],
 "metadata": {
  "kernelspec": {
   "display_name": "Python 3 (ipykernel)",
   "language": "python",
   "name": "python3"
  },
  "language_info": {
   "codemirror_mode": {
    "name": "ipython",
    "version": 3
   },
   "file_extension": ".py",
   "mimetype": "text/x-python",
   "name": "python",
   "nbconvert_exporter": "python",
   "pygments_lexer": "ipython3",
   "version": "3.11.5"
  }
 },
 "nbformat": 4,
 "nbformat_minor": 5
}
